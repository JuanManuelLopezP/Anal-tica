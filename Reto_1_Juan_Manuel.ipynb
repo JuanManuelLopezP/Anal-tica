{
  "nbformat": 4,
  "nbformat_minor": 0,
  "metadata": {
    "colab": {
      "provenance": [],
      "authorship_tag": "ABX9TyPctWy9drq+1NGhMfkUjU1k",
      "include_colab_link": true
    },
    "kernelspec": {
      "name": "python3",
      "display_name": "Python 3"
    },
    "language_info": {
      "name": "python"
    }
  },
  "cells": [
    {
      "cell_type": "markdown",
      "metadata": {
        "id": "view-in-github",
        "colab_type": "text"
      },
      "source": [
        "<a href=\"https://colab.research.google.com/github/JuanManuelLopezP/Anal-tica/blob/main/Reto_1_Juan_Manuel.ipynb\" target=\"_parent\"><img src=\"https://colab.research.google.com/assets/colab-badge.svg\" alt=\"Open In Colab\"/></a>"
      ]
    },
    {
      "cell_type": "code",
      "execution_count": null,
      "metadata": {
        "id": "WI9dDHu16fQ6"
      },
      "outputs": [],
      "source": [
        "import numpy as np\n",
        "import pandas as pd\n",
        "from sklearn.naive_bayes import GaussianNB\n",
        "from sklearn.metrics import confusion_matrix"
      ]
    },
    {
      "cell_type": "code",
      "source": [
        "nxl= '/content/1. BD1_Longitudinal Survey.xlsx'\n",
        "XDB=pd.read_excel(nxl,sheet_name=0)\n",
        "XDB = XDB.dropna()\n",
        "XDB=XDB[['Age','Mother_Edu','Father_Edu','Height','Weight','Income','Self_Esteem','FamilySize','Urban']]\n",
        "XD=np.array(XDB[['Age','Mother_Edu','Father_Edu','Height','Weight','Income','Self_Esteem','FamilySize']])\n",
        "yd=np.array(XDB['Urban'])\n",
        "XDB=np.array(XDB)\n",
        "print(XDB)\n",
        "\n",
        "mnd=GaussianNB()\n",
        "mnd.fit(XD,yd)\n",
        "ydp=mnd.predict(XD)"
      ],
      "metadata": {
        "id": "pR8VKFw6CAR1",
        "colab": {
          "base_uri": "https://localhost:8080/"
        },
        "outputId": "91a4c4a4-61c4-4dfb-a55c-c7039cb118e6"
      },
      "execution_count": null,
      "outputs": [
        {
          "output_type": "stream",
          "name": "stdout",
          "text": [
            "[[20.  5.  8. ... 16.  5.  1.]\n",
            " [19. 12. 12. ... 27.  4.  1.]\n",
            " [15. 12. 12. ... 26.  3.  1.]\n",
            " ...\n",
            " [21. 16. 12. ... 30.  1.  1.]\n",
            " [21. 16. 16. ... 27.  1.  1.]\n",
            " [21.  8.  8. ... 19.  1.  0.]]\n"
          ]
        }
      ]
    },
    {
      "cell_type": "code",
      "source": [
        "np.sum(yd)/len(yd)\n",
        "1-np.sum(yd)/len(yd)"
      ],
      "metadata": {
        "colab": {
          "base_uri": "https://localhost:8080/"
        },
        "id": "ETOh4w-EOhIN",
        "outputId": "e18fde61-b36a-408c-85b7-99ab857ce2f9"
      },
      "execution_count": null,
      "outputs": [
        {
          "output_type": "execute_result",
          "data": {
            "text/plain": [
              "0.20640506774590883"
            ]
          },
          "metadata": {},
          "execution_count": 6
        }
      ]
    },
    {
      "cell_type": "code",
      "source": [
        "mnb=GaussianNB()\n",
        "mnb.fit(XD,yd)\n",
        "ydp=mnb.predict(XD)"
      ],
      "metadata": {
        "id": "qVcwXHqjCZlp"
      },
      "execution_count": null,
      "outputs": []
    },
    {
      "cell_type": "code",
      "source": [],
      "metadata": {
        "id": "CT78UUBWD510"
      },
      "execution_count": null,
      "outputs": []
    },
    {
      "cell_type": "code",
      "source": [
        "u=mnb.theta_\n",
        "sigma=np.sqrt(mnb.var_)"
      ],
      "metadata": {
        "id": "IhRYjrshCnDi"
      },
      "execution_count": null,
      "outputs": []
    },
    {
      "cell_type": "code",
      "source": [
        "mnb=GaussianNB()\n",
        "mnb.fit(XD,yd)\n",
        "ydp=mnb.predict(XD)\n",
        "u=mnb.theta_\n",
        "sigma=np.sqrt(mnb.var_)\n"
      ],
      "metadata": {
        "id": "v17zhsrRKAx_"
      },
      "execution_count": null,
      "outputs": []
    },
    {
      "cell_type": "code",
      "source": [
        "LI=u-sigma\n",
        "LS=u+sigma\n",
        "print(\"La media de las variables por categoría\")\n",
        "print(u)\n",
        "print(\"El limite inferior de la variación de las variables por categoría es\")\n",
        "print(LI)\n",
        "print(\"El limite superior de la variación de las variables por categoría es\")\n",
        "print(LS)"
      ],
      "metadata": {
        "colab": {
          "base_uri": "https://localhost:8080/"
        },
        "id": "wUmvowxODHyc",
        "outputId": "889a0bb4-7995-4ec1-e1f9-b6b87eaaf9a0"
      },
      "execution_count": null,
      "outputs": [
        {
          "output_type": "stream",
          "name": "stdout",
          "text": [
            "La media de las variables por categoría\n",
            "[[1.83810742e+01 1.07612958e+01 1.03324808e+01 6.72148338e+01\n",
            "  1.48857630e+02 3.03672506e+04 2.20272805e+01 4.74168798e+00]\n",
            " [1.83569845e+01 1.11769401e+01 1.12565410e+01 6.69031042e+01\n",
            "  1.44760976e+02 3.34278929e+04 2.26004435e+01 4.68780488e+00]]\n",
            "El limite inferior de la variación de las variables por categoría es\n",
            "[[ 1.58996876e+01  7.58892579e+00  6.46311334e+00  6.31369799e+01\n",
            "   1.18746964e+02 -1.33465823e+03  1.78344685e+01  2.16621834e+00]\n",
            " [ 1.58811112e+01  7.79013864e+00  7.15097738e+00  6.26897933e+01\n",
            "   1.14669654e+02 -2.69533531e+03  1.84154526e+01  2.24996381e+00]]\n",
            "El limite superior de la variación de las variables por categoría es\n",
            "[[2.08624608e+01 1.39336659e+01 1.42018483e+01 7.12926877e+01\n",
            "  1.78968296e+02 6.20691595e+04 2.62200925e+01 7.31715762e+00]\n",
            " [2.08328577e+01 1.45637416e+01 1.53621047e+01 7.11164151e+01\n",
            "  1.74852297e+02 6.95511211e+04 2.67854344e+01 7.12564594e+00]]\n"
          ]
        }
      ]
    },
    {
      "cell_type": "code",
      "source": [
        "LI_age = LI[0, 0]\n",
        "LS_age = LS[0, 0]\n",
        "\n",
        "print(f\"El intervalo de la variación de la edad es: [{LI_age:.2f}, {LS_age:.2f}]\")"
      ],
      "metadata": {
        "colab": {
          "base_uri": "https://localhost:8080/"
        },
        "id": "W8kZSxzrK0T7",
        "outputId": "be49321f-c7d6-4e55-8931-85e320359000"
      },
      "execution_count": null,
      "outputs": [
        {
          "output_type": "stream",
          "name": "stdout",
          "text": [
            "El intervalo de la variación de la edad es: [15.90, 20.86]\n"
          ]
        }
      ]
    },
    {
      "cell_type": "code",
      "source": [
        "LI_Height = LI[0, 3]\n",
        "LS_Height = LS[0, 3]\n",
        "\n",
        "print(f\"El intervalo de la variación de la altura es: [{LI_Height:.2f}, {LS_Height:.2f}]\")"
      ],
      "metadata": {
        "colab": {
          "base_uri": "https://localhost:8080/"
        },
        "id": "hE6JQwcxLInU",
        "outputId": "4315fb3f-5a5e-41d3-9bf1-46b3984da7e7"
      },
      "execution_count": null,
      "outputs": [
        {
          "output_type": "stream",
          "name": "stdout",
          "text": [
            "El intervalo de la variación de la altura es: [63.14, 71.29]\n"
          ]
        }
      ]
    },
    {
      "cell_type": "code",
      "source": [
        "LI_Weight = LI[0, 4]\n",
        "LS_Weight = LS[0, 4]\n",
        "\n",
        "print(f\"El intervalo de la variación de el peso es: [{LI_Weight:.2f}, {LS_Weight:.2f}]\")"
      ],
      "metadata": {
        "colab": {
          "base_uri": "https://localhost:8080/"
        },
        "id": "zNGsJqNuMJMa",
        "outputId": "06eab7d2-5abd-4566-8d3a-589970eb9ffb"
      },
      "execution_count": null,
      "outputs": [
        {
          "output_type": "stream",
          "name": "stdout",
          "text": [
            "El intervalo de la variación de el peso es: [118.75, 178.97]\n"
          ]
        }
      ]
    },
    {
      "cell_type": "code",
      "source": [
        "cm=confusion_matrix(yd,ydp)\n",
        "print(cm)\n"
      ],
      "metadata": {
        "colab": {
          "base_uri": "https://localhost:8080/"
        },
        "id": "bhw7uKgRDape",
        "outputId": "988b1a26-fe47-4476-b82c-263049565894"
      },
      "execution_count": null,
      "outputs": [
        {
          "output_type": "stream",
          "name": "stdout",
          "text": [
            "[[   2 1171]\n",
            " [   4 4506]]\n"
          ]
        }
      ]
    },
    {
      "cell_type": "code",
      "source": [
        "from re import S\n",
        "VN=cm[0,0]\n",
        "FP=cm[0,1]\n",
        "FN=cm[1,0]\n",
        "VP=cm[1,1]\n",
        "\n",
        "Exactitud=(VP+VN)/len(XD)\n",
        "print(\"La exactitud es:\",Exactitud)\n",
        "\n",
        "TE=(FN+FP)/len(XD)\n",
        "print(\"El Tasa de Error es:\",TE)\n",
        "\n",
        "Sensibilidad=VP/(VP+FP)\n",
        "print(\"La sensibilidad es:\",Sensibilidad)\n",
        "\n",
        "Especificidad=VN/(VN+FN)\n",
        "print(\"La especificidad es:\",Especificidad)"
      ],
      "metadata": {
        "colab": {
          "base_uri": "https://localhost:8080/"
        },
        "id": "5DRlZpdXEXIZ",
        "outputId": "232d1b2c-83e7-4b6a-d7a5-23592bb56be7"
      },
      "execution_count": null,
      "outputs": [
        {
          "output_type": "stream",
          "name": "stdout",
          "text": [
            "La exactitud es: 0.7932430054548654\n",
            "El Tasa de Error es: 0.2067569945451346\n",
            "La sensibilidad es: 0.793729082261758\n",
            "La especificidad es: 0.3333333333333333\n"
          ]
        }
      ]
    },
    {
      "cell_type": "code",
      "source": [
        "Xun=np.array([[15,12,12,65,131,25000,26,3]])  #Misma persona del excel\n",
        "ydun=mnd.predict(Xun)\n",
        "print(ydun)"
      ],
      "metadata": {
        "colab": {
          "base_uri": "https://localhost:8080/"
        },
        "id": "auX-s88LF4Pu",
        "outputId": "40de0b71-8aca-4497-a44d-d68097392c88"
      },
      "execution_count": null,
      "outputs": [
        {
          "output_type": "stream",
          "name": "stdout",
          "text": [
            "[1.]\n"
          ]
        }
      ]
    },
    {
      "cell_type": "markdown",
      "source": [
        "**Pregunta 1**\n",
        "La cantitdad total de datos de la base es  de 12678 datos\n",
        "\n",
        "**Pregunta 2**\n",
        "El porcentaje de datos que pertenecena a las categorías de clasificación equivale al 79.35% y los que no pertenecen a esta equivalen al siguiente porcentaje 20.64%\n",
        "\n",
        "**Pregunta 3**\n",
        "El intervalo de la variación de la edad es: [15.90, 20.86]\n",
        "\n",
        "**Pregunta 4**\n",
        "El intervalo de la variación de la altura es: [63.14, 71.29]\n",
        "\n",
        "**Pregunta 5**\n",
        "El intervalo de la variación de el peso es: [118.75, 178.97]\n",
        "\n",
        "**Pregunta 6**\n",
        "La excatidud del modelo es de 79.32%\n",
        "\n",
        "**Pregunta 7**\n",
        "La tasa de error del modelo es de 20.67%\n",
        "\n",
        "**Pregunta 8**\n",
        "La sensibilidad del modelo es de 79.37%\n",
        "\n",
        "**Pregunta 9**\n",
        "La especificidad del modelo es de 33.33%\n",
        "\n",
        "**Pregunta 10**\n",
        "Para una persona con las siguientes características 15,12,12,65,131,25000,26,3 (Edad, Educación de madre y padre, altura, peso, ingresos, autoestima y tamaño de la familia) el modelo demuestra que esta vive en el área urbana\n",
        "\n",
        "**Analisis**\n",
        "\n",
        "Con el modelo anteriormente presentado, podemos observar que la mayoría de personas que se encuentran en la base de datos, viven en el sector urbano, una de las razones de esto pueden ser el tamaño de las familias que en el caso de las personas que viven en zona no urbana, estos presentan número mas grandes, en cuanto a las métricas, podemos inferir que gracias al modelo, este tuvo una sensibilidad 79.37% de certeza. En general, podemos afirmar que este modelo sirve ya que presenta un 79.32% de exactitud a la hora de evaluar a los candidatos y una tasa de error de 20.67%. Finalmente con la persona que se escogió para probar el modelo, podemos ver que el resultado arrojado por el modelo es de 1 lo que equivale a que el individio vive en zona urbana y al comparalo con la base de datos donde este ya tiene su clasificación, se encuentra que la al igual que el modelo, el sujeto de prueba vive efectivamente en zona urbana."
      ],
      "metadata": {
        "id": "gWfB8behGgXe"
      }
    }
  ]
}