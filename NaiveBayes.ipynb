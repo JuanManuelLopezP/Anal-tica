{
  "nbformat": 4,
  "nbformat_minor": 0,
  "metadata": {
    "colab": {
      "provenance": [],
      "authorship_tag": "ABX9TyMyttZBRcaZy1/fGxDawibQ",
      "include_colab_link": true
    },
    "kernelspec": {
      "name": "python3",
      "display_name": "Python 3"
    },
    "language_info": {
      "name": "python"
    }
  },
  "cells": [
    {
      "cell_type": "markdown",
      "metadata": {
        "id": "view-in-github",
        "colab_type": "text"
      },
      "source": [
        "<a href=\"https://colab.research.google.com/github/JuanManuelLopezP/Anal-tica/blob/main/NaiveBayes.ipynb\" target=\"_parent\"><img src=\"https://colab.research.google.com/assets/colab-badge.svg\" alt=\"Open In Colab\"/></a>"
      ]
    },
    {
      "cell_type": "markdown",
      "source": [
        "**Modelo de preaprobación - Naive Bayes**\n",
        "  Paso 0: Se cargan las librerias de trabajo"
      ],
      "metadata": {
        "id": "_YR6vG3PiX55"
      }
    },
    {
      "cell_type": "code",
      "execution_count": null,
      "metadata": {
        "id": "_1zhKuQxhWw5"
      },
      "outputs": [],
      "source": [
        "import numpy as np #Libreria para funciones matemáticas\n",
        "import pandas as pd #Libreria para hacer la comunicación con excel\n",
        "from sklearn.naive_bayes import GaussianNB #Función Gaussiana\n",
        "from sklearn.metrics import confusion_matrix #La métrica de medida"
      ]
    },
    {
      "cell_type": "markdown",
      "source": [
        "1. Se cargan los datos"
      ],
      "metadata": {
        "id": "uEuCRNU4kRCf"
      }
    },
    {
      "cell_type": "code",
      "source": [
        "nxl= '/content/0. SolicitantesCrédito(USD)_NaiveBayes(L).xlsx'\n",
        "XDB=pd.read_excel(nxl,sheet_name=2)  #Traer los datos\n",
        "XDB.dropna() #Eliminar datos faltantes\n",
        "\n",
        "\n",
        "#Seleccionamos las variables de interes\n",
        "XDB=XDB[['Edad','Ingresos','Egresos','Cuota (COP)','PreApr']]\n",
        " #Mostrar la base de datos 'print(XDB)'\n",
        "\n",
        "#Datos de entrada - np.array() convertir números\n",
        "XD=np.array(XDB[['Edad','Ingresos','Egresos','Cuota (COP)']])\n",
        "#Datos salida - Valor deseado - Que quiero que aprenda el modelo\n",
        "yd=np.array(XDB['PreApr'])\n",
        "\n",
        "\n",
        "\n",
        "\n",
        "#Para convertir la tabla en números\n",
        "XDB=np.array(XDB)\n",
        "print(XDB)\n"
      ],
      "metadata": {
        "colab": {
          "base_uri": "https://localhost:8080/"
        },
        "id": "CG5HSNOskg34",
        "outputId": "6b311739-22e3-4ec4-9469-2da376fd8d1a"
      },
      "execution_count": null,
      "outputs": [
        {
          "output_type": "stream",
          "name": "stdout",
          "text": [
            "[[3.80000000e+01 1.35614400e+03 1.68562267e+03 1.83758903e+01\n",
            "  1.00000000e+00]\n",
            " [5.10000000e+01 2.86016000e+02 3.64462000e+02 5.06249169e+00\n",
            "  1.00000000e+00]\n",
            " [3.70000000e+01 5.17463250e+02 6.29208889e+02 1.02876881e+01\n",
            "  0.00000000e+00]\n",
            " ...\n",
            " [3.80000000e+01 7.73019750e+02 6.72910667e+02 2.15087916e+01\n",
            "  1.00000000e+00]\n",
            " [4.30000000e+01 6.35501750e+02 7.80691556e+02 1.10474685e+01\n",
            "  1.00000000e+00]\n",
            " [3.70000000e+01 1.41926675e+03 1.16983844e+03 3.63561819e+01\n",
            "  1.00000000e+00]]\n"
          ]
        }
      ]
    },
    {
      "cell_type": "markdown",
      "source": [
        "2. Implementar modelo"
      ],
      "metadata": {
        "id": "i-FuByGPnu_I"
      }
    },
    {
      "cell_type": "code",
      "source": [
        "mnb=GaussianNB()   #Llamamos el modelo\n",
        "mnb.fit(XD,yd)\n",
        "ydp=mnb.predict(XD) #Muestra los datos de salida - pero que el obtuvo\n",
        "\n",
        "#Parametros de modelo por categoría - PreaApr/PreNeg\n",
        "u=mnb.theta_    #Se estiman las medias\n",
        "sigma=np.sqrt(mnb.var_)   #Se estiman las varianzas\n",
        "\n",
        "#las variaciones de las variables\n",
        "LI=u-sigma\n",
        "LS=u+sigma\n",
        "print(\"La mdeia de las variables por categoría\")\n",
        "print(u)\n",
        "print(\"El limite inferior de la variación de las variables por categoría es\")\n",
        "print(LI)\n",
        "print(\"El limite superior de la variación de las variables por categoría es\")\n",
        "print(LS)\n",
        "\n",
        "\n",
        "#Métrica de evaluación - Como se comportó el model identificando la PreApr-PreNeg\n",
        "cm=confusion_matrix(yd,ydp)"
      ],
      "metadata": {
        "colab": {
          "base_uri": "https://localhost:8080/"
        },
        "id": "tCzujRGBnx4e",
        "outputId": "de4517dd-5c7f-47a2-f904-b98eb35a41a8"
      },
      "execution_count": null,
      "outputs": [
        {
          "output_type": "execute_result",
          "data": {
            "text/plain": [
              "array([[2563,  396],\n",
              "       [1192, 1691]])"
            ]
          },
          "metadata": {},
          "execution_count": 30
        }
      ]
    },
    {
      "cell_type": "markdown",
      "source": [
        "3. Se procede con la evaluación del modelo"
      ],
      "metadata": {
        "id": "sgn60u3fzDln"
      }
    },
    {
      "cell_type": "code",
      "source": [
        "from re import S\n",
        "VN=cm[0,0] #Verdaderos Negativos\n",
        "FP=cm[0,1] #Falsos Positivos\n",
        "FN=cm[1,0] #Falsos Negativos\n",
        "VP=cm[1,1] #Verdadeos Positivos\n",
        "\n",
        "Exactitud=(VP+VN)/len(XD)\n",
        "print(\"La exactitud es:\",Exactitud) #Comportamiento general\n",
        "\n",
        "TE=(FN+FP)/len(XD)\n",
        "print(\"El Tasa de Error es:\",TE) #Porcentaje equivocaciones\n",
        "\n",
        "Sensibilidad=VP/(VP+FP)\n",
        "print(\"La sensibilidad es:\",Sensibilidad) #Como se comportó frente a los positivos\n",
        "\n",
        "Especificidad=VN/(VN+FN)\n",
        "print(\"La especificidad es:\",Especificidad) #Como se comportó frente a los negativos\n",
        "\n",
        "Precisión=VP/(VP+FN)\n",
        "print(\"La precisión es:\",Precisión) #Como le pegó a los clasificados positivos\n",
        "\n",
        "PredNeg=VN/(VN+FP)\n",
        "print(\"La probabilidad de Negativo es:\",PredNeg) #Como le pegó a los clasificados neagtivos"
      ],
      "metadata": {
        "colab": {
          "base_uri": "https://localhost:8080/"
        },
        "id": "CpAXXF3MzH6s",
        "outputId": "9b0c85c6-ae9d-4773-a319-b9dc666ef563"
      },
      "execution_count": null,
      "outputs": [
        {
          "output_type": "stream",
          "name": "stdout",
          "text": [
            "La exactitud es: 0.7281752824375214\n",
            "El Tasa de Error es: 0.2718247175624786\n",
            "La sensibilidad es: 0.8102539530426449\n",
            "La especificidad es: 0.6825565912117177\n",
            "La precisión es: 0.5865417967395075\n",
            "La probabilidad de Negativo es: 0.8661710037174721\n"
          ]
        }
      ]
    },
    {
      "cell_type": "markdown",
      "source": [
        "5. Que pasa con una sola persona"
      ],
      "metadata": {
        "id": "P_IBq-Sc3tS4"
      }
    },
    {
      "cell_type": "code",
      "source": [
        "Xun=np.array([[38,1356,1686,18]])  #Misma persona del excel\n",
        "ydun=mnb.predict(Xun)\n",
        "print(ydun)"
      ],
      "metadata": {
        "colab": {
          "base_uri": "https://localhost:8080/"
        },
        "id": "pB-npv5l37vn",
        "outputId": "835759e2-4be7-430c-da30-0606cb2275df"
      },
      "execution_count": null,
      "outputs": [
        {
          "output_type": "stream",
          "name": "stdout",
          "text": [
            "[1]\n"
          ]
        }
      ]
    },
    {
      "cell_type": "markdown",
      "source": [
        "Análisis de resultados:\n",
        "De los resultados se puede observar que los preaprobados en general presentan edades, ingresos, egresos y cuotas mayores a los aprobados.Con respecto a las métricas se puede observar que el modelo funcionó mejor clasificando los positivos, como lo dice el indicador de sensibilidad el cual alcanzó el 81% de certeza. De manera general se puede observar que el modelo logró una exactitud que se ubicó por encima del 70% en promeido, y una tasa de error cercana al 30% en promedio. De manera general esta exactitud lo convierte en un buen modelo. Con respecto al solicitante de crédito (solicitante), este pertenece a la categoría de aprobado"
      ],
      "metadata": {
        "id": "wFk2ZoCv40qm"
      }
    }
  ]
}