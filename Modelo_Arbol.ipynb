{
  "nbformat": 4,
  "nbformat_minor": 0,
  "metadata": {
    "colab": {
      "provenance": [],
      "authorship_tag": "ABX9TyN01w4YLvvtV4/iet7kMiJA",
      "include_colab_link": true
    },
    "kernelspec": {
      "name": "python3",
      "display_name": "Python 3"
    },
    "language_info": {
      "name": "python"
    }
  },
  "cells": [
    {
      "cell_type": "markdown",
      "metadata": {
        "id": "view-in-github",
        "colab_type": "text"
      },
      "source": [
        "<a href=\"https://colab.research.google.com/github/JuanManuelLopezP/Anal-tica/blob/main/Modelo_Arbol.ipynb\" target=\"_parent\"><img src=\"https://colab.research.google.com/assets/colab-badge.svg\" alt=\"Open In Colab\"/></a>"
      ]
    },
    {
      "cell_type": "markdown",
      "source": [
        "**Arboles de decisión**\n",
        "0. Cargar librerias de referencia para el modelo\n"
      ],
      "metadata": {
        "id": "r0dZm6KDmepm"
      }
    },
    {
      "cell_type": "code",
      "execution_count": null,
      "metadata": {
        "colab": {
          "base_uri": "https://localhost:8080/"
        },
        "id": "jENYRPJDmIcV",
        "outputId": "386ebd8b-95ef-4b48-aa86-c7304d2b8f29"
      },
      "outputs": [
        {
          "output_type": "stream",
          "name": "stdout",
          "text": [
            "Mounted at /content/drive\n"
          ]
        }
      ],
      "source": [
        "import pandas as pd\n",
        "import numpy as np\n",
        "import matplotlib.pyplot as plt #Graficador de cosas\n",
        "from sklearn.tree import DecisionTreeClassifier  #Modelo\n",
        "\n",
        "#Para no tener que cargar el archivo, se usarán 2 librerias\n",
        "from google.colab import drive\n",
        "drive.mount('/content/drive')\n"
      ]
    },
    {
      "cell_type": "markdown",
      "source": [
        "1. Se procede con la carga de los datos \"Solicitantes crédito\n"
      ],
      "metadata": {
        "id": "_se49KEapKYl"
      }
    },
    {
      "cell_type": "code",
      "source": [
        "from sre_constants import ANY_ALL\n",
        "nxl='/content/drive/MyDrive/Analítica/0. SolicitantesCrédito(USD)_Arboles.xlsx'\n",
        "XDB=pd.read_excel(nxl, sheet_name=1)\n",
        "XDB=XDB.dropna() #Elimina celdas vacias\n",
        "XDB.head(100)\n",
        "\n",
        "#Se procede con la selección de las variables de trabajo\n",
        "XD=np.array(XDB[['Edad','Ingresos','Egresos','Monto (EAD)']]) #Datos entrada\n",
        "print(XD)\n",
        "yd=np.array(XDB['PreApr']) #Datos de salida\n",
        "print(yd)"
      ],
      "metadata": {
        "colab": {
          "base_uri": "https://localhost:8080/"
        },
        "id": "buaXrzMRpapy",
        "outputId": "74f71bd1-f087-46eb-8887-3c1fd1ba6b7a"
      },
      "execution_count": null,
      "outputs": [
        {
          "output_type": "stream",
          "name": "stdout",
          "text": [
            "[[  38.         1356.144      1685.62266667  625.56223022]\n",
            " [  51.          286.016       364.462       140.03198442]\n",
            " [  37.          517.46325     629.20888889  284.56449156]\n",
            " ...\n",
            " [  38.          773.01975     672.91066667  594.94789369]\n",
            " [  43.          635.50175     780.69155556  305.58053861]\n",
            " [  37.         1419.26675    1169.83844444 1005.63687051]]\n",
            "[1 1 0 ... 1 1 1]\n"
          ]
        }
      ]
    },
    {
      "cell_type": "markdown",
      "source": [
        "2. Creación del modelo"
      ],
      "metadata": {
        "id": "l5CCtpSBsUMd"
      }
    },
    {
      "cell_type": "code",
      "source": [
        "mar=DecisionTreeClassifier(criterion='gini',max_depth=4) #4 niveles o variables de entrada\n",
        "mar=mar.fit(XD,yd)\n",
        "ydp=mar.predict(XD)\n",
        "\n",
        "from sklearn.metrics import confusion_matrix\n",
        "cm=confusion_matrix(yd,ydp)\n",
        "print(cm)\n",
        "\n",
        "#Evaluamos modelo\n",
        "VN=cm[0,0]\n",
        "FP=cm[0,1]\n",
        "FN=cm[1,0]\n",
        "VP=cm[1,1]\n",
        "\n",
        "Ex=(VN+VP)/(VN+VP+FN+FP)   #Que porcentage de los datos pronosticó correctamente\n",
        "print(\"La exactitud alcanzada por el modelo es:\",Ex)\n",
        "se=VP/(FN+VP) #Como le fue con los positivos\n",
        "print(\"La sensibildiad alcanzada por el modelo fue:\",se)\n",
        "esp=VN/(VN+FP) #Como le fue con los negativos\n",
        "print(\"La especificidad alcanzada por el modelo fue:\",esp)"
      ],
      "metadata": {
        "colab": {
          "base_uri": "https://localhost:8080/"
        },
        "id": "BCV5iHdpsZRp",
        "outputId": "1fdd840a-7d9f-4bf4-fac9-055f4f155ee6"
      },
      "execution_count": null,
      "outputs": [
        {
          "output_type": "stream",
          "name": "stdout",
          "text": [
            "[[2301  658]\n",
            " [ 644 2239]]\n",
            "La exactitud alcanzada por el modelo es: 0.7771311194796303\n",
            "La sensibildiad alcanzada por el modelo fue: 0.7766215747485259\n",
            "La especificidad alcanzada por el modelo fue: 0.7776275768840825\n"
          ]
        }
      ]
    },
    {
      "cell_type": "markdown",
      "source": [
        "3.¿Donde está el arbol?"
      ],
      "metadata": {
        "id": "Bo-bP6ebvs8P"
      }
    },
    {
      "cell_type": "code",
      "source": [
        "#Librerias para graficar el arbol\n",
        "from sklearn.tree import export_graphviz\n",
        "from pydotplus import graph_from_dot_data\n",
        "\n",
        "vs=['Edad','Ingresos','Egresos','Monto (EAD)'] #Son titulos del arbol\n",
        "dot_graph=export_graphviz(mar,feature_names=vs)\n",
        "graph=graph_from_dot_data(dot_graph)\n",
        "graph.write_png('arbol.png')"
      ],
      "metadata": {
        "colab": {
          "base_uri": "https://localhost:8080/"
        },
        "id": "p--LcYRbv0IP",
        "outputId": "ddc824e7-8345-4e9d-cf4e-39418a1c8492"
      },
      "execution_count": null,
      "outputs": [
        {
          "output_type": "execute_result",
          "data": {
            "text/plain": [
              "True"
            ]
          },
          "metadata": {},
          "execution_count": 15
        }
      ]
    },
    {
      "cell_type": "markdown",
      "source": [
        "4. Pronóstico del solicitante"
      ],
      "metadata": {
        "id": "042YE7mD6nSr"
      }
    },
    {
      "cell_type": "code",
      "source": [
        "XDB2=pd.read_excel(nxl, sheet_name=2)\n",
        "XDB2=XDB2.dropna() #Elimina celdas vacias\n",
        "XDB2.head(100)\n",
        "\n",
        "XDB2=np.array(XDB2[['Edad','Ingresos','Egresos','Monto (EAD)']]) #Datos entrada\n",
        "print(XDB2)\n",
        "\n",
        "#Pronosticamos la Preaprobación\n",
        "yd2=mar.predict(XDB2)\n",
        "print(ydp2)\n",
        "print(\"El número de preaporbados es:\",np.sum(ydp2))\n",
        "print(\"El número total de datos es:\",len(ydp2))\n",
        "print(\"El número de datos PreNegados es:\",len(ydp2)-np.sum(ydp2))\n"
      ],
      "metadata": {
        "colab": {
          "base_uri": "https://localhost:8080/"
        },
        "id": "wW4ld6lV6qxs",
        "outputId": "57c53fe7-e0c3-4af8-e0e4-c22f245033d4"
      },
      "execution_count": null,
      "outputs": [
        {
          "output_type": "stream",
          "name": "stdout",
          "text": [
            "[[  38.          383.67775     368.59866667  175.84723507]\n",
            " [  47.           34.1875       38.03444444   26.95587069]\n",
            " [  46.         1774.305      2116.72377778  705.43470796]\n",
            " ...\n",
            " [  32.          283.26575     170.26644444  225.30034584]\n",
            " [  35.          768.288       847.26444444  479.16423193]\n",
            " [  24.          487.598       376.18355556  424.283721  ]]\n",
            "[0 0 1 ... 0 1 0]\n",
            "El número de preaporbados es: 1260\n",
            "El número total de datos es: 2536\n",
            "El número de datos PreNegados es: 1276\n"
          ]
        }
      ]
    },
    {
      "cell_type": "markdown",
      "source": [
        "**ANALISIS DE RESULTADOS**\n",
        "De acuerdo con la base de datos suministrada y el nodo base del arbol de decisión, se puede observar un total de 5842 datos divididos en 2959 preapropabos y 2883 prenegados, esto representa el 51% y el 49% respectivamente. De acuerdo con el pronóstico realizado por el modelo, este alcanzó una exactitud cercana al 77%, valores que fueron similares a la sensibilidad que mide el comportamiento del modelo frente a la clasificación de los preaprovados, así como frente a la especificidad, indicador que mide el comportamiento del modelo frente a la clasificación de los prenegados.\n",
        "Se destaca el único nodo puro \"[PreNeg:10,PreApr:0, en donde los solicitantes de crédito deben de cumplir con la siguiente regla: SI ing>644 AND Egr<=685 AND Ing>376\n",
        "AND Monto>=322.\n",
        "Con respecto al pronóstico, se puede observar un total de 2536 individuos sin PreAprovación, de los cuales un total de 1260 pueden ser PreAprobados y un total de 1276 que pueden ser PreNegados\n",
        "\n",
        "4 niveles"
      ],
      "metadata": {
        "id": "73iPmne48m8h"
      }
    }
  ]
}