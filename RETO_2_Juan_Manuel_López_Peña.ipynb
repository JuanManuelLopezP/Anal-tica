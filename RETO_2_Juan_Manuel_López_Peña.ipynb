{
  "nbformat": 4,
  "nbformat_minor": 0,
  "metadata": {
    "colab": {
      "provenance": [],
      "authorship_tag": "ABX9TyNyHYeI7S7VAhMgBGvlE32R",
      "include_colab_link": true
    },
    "kernelspec": {
      "name": "python3",
      "display_name": "Python 3"
    },
    "language_info": {
      "name": "python"
    }
  },
  "cells": [
    {
      "cell_type": "markdown",
      "metadata": {
        "id": "view-in-github",
        "colab_type": "text"
      },
      "source": [
        "<a href=\"https://colab.research.google.com/github/JuanManuelLopezP/Anal-tica/blob/main/RETO_2_Juan_Manuel_L%C3%B3pez_Pe%C3%B1a.ipynb\" target=\"_parent\"><img src=\"https://colab.research.google.com/assets/colab-badge.svg\" alt=\"Open In Colab\"/></a>"
      ]
    },
    {
      "cell_type": "code",
      "execution_count": null,
      "metadata": {
        "colab": {
          "base_uri": "https://localhost:8080/"
        },
        "id": "km6UEoduxfqY",
        "outputId": "ff563e42-c1ca-45b3-e3c2-e9f8caa63889"
      },
      "outputs": [
        {
          "output_type": "stream",
          "name": "stdout",
          "text": [
            "Drive already mounted at /content/drive; to attempt to forcibly remount, call drive.mount(\"/content/drive\", force_remount=True).\n"
          ]
        }
      ],
      "source": [
        "import pandas as pd\n",
        "import numpy as np\n",
        "import matplotlib.pyplot as plt\n",
        "from sklearn.tree import DecisionTreeClassifier\n",
        "\n",
        "\n",
        "from google.colab import drive\n",
        "drive.mount('/content/drive')"
      ]
    },
    {
      "cell_type": "code",
      "source": [
        "from sre_constants import ANY_ALL\n",
        "nxl='/content/drive/MyDrive/Analítica/RETO 2.xlsx'\n",
        "XDB=pd.read_excel(nxl, sheet_name=1)\n",
        "XDB=XDB.dropna()\n",
        "XDB.head(100)\n",
        "\n",
        "\n",
        "XD=np.array(XDB[['College_','FoodSpend','Income','TravelSpend']])\n",
        "print(XD)\n",
        "yd=np.array(XDB['Credit_Card'])\n",
        "print(yd)"
      ],
      "metadata": {
        "id": "u98NKl-Hx5hJ",
        "collapsed": true,
        "colab": {
          "base_uri": "https://localhost:8080/"
        },
        "outputId": "f5bfe2cb-8e93-442a-90f7-fb1c1f3f7441"
      },
      "execution_count": null,
      "outputs": [
        {
          "output_type": "stream",
          "name": "stdout",
          "text": [
            "[[1.00000e+00 5.47243e+03 4.91500e+04 8.27400e+02]\n",
            " [0.00000e+00 9.13073e+03 4.78060e+04 8.63550e+02]\n",
            " [0.00000e+00 4.45067e+03 4.60500e+04 1.18005e+03]\n",
            " ...\n",
            " [0.00000e+00 3.58586e+03 4.22500e+04 2.25195e+03]\n",
            " [1.00000e+00 1.83395e+03 6.02480e+04 2.00025e+03]\n",
            " [0.00000e+00 6.20597e+03 5.85200e+04 3.66750e+03]]\n",
            "[1 1 1 1 1 0 0 1 0 0 0 1 1 1 0 1 0 0 0 0 0 0 1 0 1 0 1 1 0 1 0 1 1 0 1 1 0\n",
            " 0 0 0 0 0 0 0 0 0 0 0 1 0 0 0 0 1 1 0 1 1 0 0 0 1 0 0 0 0 1 0 0 0 0 0 0 1\n",
            " 0 0 1 0 0 0 1 0 1 0 0 1 1 0 0 0 0 0 0 0 1 0 0 0 0 1 0 0 1 1 0 0 0 0 1 0 0\n",
            " 0 0 0 0 0 0 0 0 0 0 0 1 0 0 0 0 1 1 1 0 0 0 0 0 0 1 0 0 0 1 0 0 0 1 0 0 0\n",
            " 1 0 1 0 0 1 1 1 0 0 0 1 1 0 0 1 0 0 0 0 1 0 0 0 0 0 1 0 1 1 0 0 0 1 0 0 0\n",
            " 1 0 0 0 0 0 0 1 0 0 0 0 0 0 0 1 1 0 0 1 0 0 0 1 1 0 0 0 1 0 0 1 0 0 0 0 0\n",
            " 0 0 1 1 0 0 0 0 0 0 0 0 1 0 0 1 0 0 1 0 0 0 0 1 0 0 1 0 1 0 0 0 0 0 1 0 0\n",
            " 0 0 0 0 0 0 0 1 0 0 0 0 0 0 0 0 1 1 0 0 1 0 0 0 0 0 0 0 0 0 0 1 0 1 1 0 0\n",
            " 0 0 0 0 0 0 1 1 1 1 0 1 1 1 0 1 1 1 1 1 0 0 0 1 0 0 0 0 1 1 1 0 0 1 0 1 0\n",
            " 0 0 0 0 0 1 0 0 0 0 0 0 0 0 0 0 1 0 0 0 0 0 0 1 0 0 0 0 0 0 0 0 0 1 1 0 0\n",
            " 0 0 1 1 1 1 0 1 1 0 0 0 0 0 0 0 0 0 1 1 1 0 1 0 0 1 1 1 1 0 1 0 0 1 0 0 0\n",
            " 0 1 1 1 1 0 0 0 1 1 0 0 1 0 0 1 1 0 1 0 0 1 0 1 1 0 1 0 0 1 1 1 0 1 1 1 1\n",
            " 1 0 0 0 0 0 1 0 1 0 0 0 1 1 0 0 0 1 0 1 1 1 0 0 1 0 1 0 1 0 0 0 0 0 0 1 0\n",
            " 0 0 0 0 0 0 1 0 0 0 0 0 1 0 0 0 0 0 0]\n"
          ]
        }
      ]
    },
    {
      "cell_type": "code",
      "source": [
        "mar=DecisionTreeClassifier(criterion='gini',max_depth=4)\n",
        "mar=mar.fit(XD,yd)\n",
        "ydp=mar.predict(XD)\n",
        "\n",
        "from sklearn.metrics import confusion_matrix\n",
        "cm=confusion_matrix(yd,ydp)\n",
        "print(cm)\n",
        "\n",
        "#Evaluamos modelo\n",
        "VN=cm[0,0]\n",
        "FP=cm[0,1]\n",
        "FN=cm[1,0]\n",
        "VP=cm[1,1]\n",
        "\n",
        "Ex=(VN+VP)/(VN+VP+FN+FP)   #Que porcentage de los datos pronosticó correctamente\n",
        "print(\"La exactitud alcanzada por el modelo es:\",Ex)\n",
        "se=VP/(FN+VP) #Como le fue con los positivos\n",
        "print(\"La sensibildiad alcanzada por el modelo fue:\",se)\n",
        "esp=VN/(VN+FP) #Como le fue con los negativos\n",
        "print(\"La especificidad alcanzada por el modelo fue:\",esp)"
      ],
      "metadata": {
        "colab": {
          "base_uri": "https://localhost:8080/"
        },
        "id": "5jD-1ax3ybdB",
        "outputId": "b8c56a4e-bf92-4512-cf17-d3313fffab4b"
      },
      "execution_count": null,
      "outputs": [
        {
          "output_type": "stream",
          "name": "stdout",
          "text": [
            "[[334   9]\n",
            " [ 42 115]]\n",
            "La exactitud alcanzada por el modelo es: 0.898\n",
            "La sensibildiad alcanzada por el modelo fue: 0.732484076433121\n",
            "La especificidad alcanzada por el modelo fue: 0.9737609329446064\n"
          ]
        }
      ]
    },
    {
      "cell_type": "code",
      "source": [
        "from sklearn.tree import export_graphviz\n",
        "from pydotplus import graph_from_dot_data\n",
        "\n",
        "vs=['College_','FoodSpend','Income','TravelSpend'] #Son titulos del arbol\n",
        "dot_graph=export_graphviz(mar,feature_names=vs)\n",
        "graph=graph_from_dot_data(dot_graph)\n",
        "graph.write_png('arbol2.png')"
      ],
      "metadata": {
        "colab": {
          "base_uri": "https://localhost:8080/"
        },
        "id": "gXQ7I-N33vEH",
        "outputId": "d9db9db3-6a3f-4f43-b8c5-8717dfc331ed"
      },
      "execution_count": null,
      "outputs": [
        {
          "output_type": "execute_result",
          "data": {
            "text/plain": [
              "True"
            ]
          },
          "metadata": {},
          "execution_count": 11
        }
      ]
    },
    {
      "cell_type": "code",
      "source": [
        "XDB2=pd.read_excel(nxl, sheet_name=1)\n",
        "XDB2=XDB2.dropna()\n",
        "XDB2.head(100)\n",
        "\n",
        "XDB2=np.array(XDB2[['College_','FoodSpend','Income','TravelSpend']]) #Datos entrada\n",
        "print(XDB2)\n",
        "\n",
        "#Pronosticamos la Preaprobación\n",
        "ydp2=mar.predict(XDB2)\n",
        "print(ydp2)\n",
        "print(\"El número de personas que usaran la tarjeta es de :\",np.sum(ydp2))\n",
        "print(\"El número total de datos es:\",len(ydp2))\n",
        "print(\"El número de personas que no usaran la tarjeta es de:\",len(ydp2)-np.sum(ydp2))"
      ],
      "metadata": {
        "colab": {
          "base_uri": "https://localhost:8080/"
        },
        "id": "GsEmOJCu5Flu",
        "outputId": "8aeeb1d2-3bfc-4451-e9a2-0628e7e8fb24"
      },
      "execution_count": null,
      "outputs": [
        {
          "output_type": "stream",
          "name": "stdout",
          "text": [
            "[[1.00000e+00 5.47243e+03 4.91500e+04 8.27400e+02]\n",
            " [0.00000e+00 9.13073e+03 4.78060e+04 8.63550e+02]\n",
            " [0.00000e+00 4.45067e+03 4.60500e+04 1.18005e+03]\n",
            " ...\n",
            " [0.00000e+00 3.58586e+03 4.22500e+04 2.25195e+03]\n",
            " [1.00000e+00 1.83395e+03 6.02480e+04 2.00025e+03]\n",
            " [0.00000e+00 6.20597e+03 5.85200e+04 3.66750e+03]]\n",
            "[1 1 1 1 1 0 0 0 0 0 0 1 1 1 0 0 0 0 0 0 0 0 1 0 1 0 0 1 0 1 0 0 1 0 1 1 0\n",
            " 0 0 0 0 0 0 0 0 0 0 0 1 0 0 0 0 1 0 0 1 1 0 0 0 1 0 0 1 0 1 0 0 0 0 0 0 1\n",
            " 0 0 1 0 0 0 0 0 1 0 0 1 1 0 0 0 0 0 0 0 0 0 0 0 0 1 0 0 0 1 0 0 0 0 1 0 0\n",
            " 0 0 0 0 0 0 0 0 0 0 0 1 0 1 0 0 0 1 0 0 0 0 0 0 0 1 0 0 0 0 0 0 0 1 0 0 0\n",
            " 0 1 1 0 0 1 1 1 0 0 0 1 0 0 0 1 0 0 0 0 1 0 0 0 0 0 0 0 1 1 0 0 0 1 0 0 0\n",
            " 1 0 0 0 0 0 0 1 0 0 0 1 0 0 0 1 1 0 0 1 0 0 0 1 0 0 0 0 0 0 0 1 0 0 0 0 0\n",
            " 0 0 1 1 0 0 0 0 0 0 0 0 1 0 0 1 0 0 1 0 0 0 0 0 0 0 1 1 0 0 0 0 0 0 0 0 0\n",
            " 0 0 0 0 0 0 0 1 0 0 0 0 0 0 0 0 1 1 0 0 1 0 0 0 0 0 0 0 0 0 0 1 0 1 0 0 0\n",
            " 0 0 0 0 0 0 0 0 1 1 0 1 1 1 0 0 1 1 0 1 0 0 0 1 0 0 0 0 1 1 0 0 0 1 0 1 0\n",
            " 0 0 0 0 0 0 0 0 0 1 0 0 0 0 0 0 1 0 0 0 0 0 0 1 0 0 0 0 0 0 0 0 0 1 1 0 0\n",
            " 0 0 1 1 1 1 0 1 1 0 0 0 0 0 0 0 0 0 1 0 1 0 0 0 0 1 1 1 0 0 0 0 0 0 0 0 0\n",
            " 0 1 1 1 0 0 1 0 1 1 0 0 1 0 0 1 1 0 1 0 0 0 0 1 1 0 1 0 1 1 0 0 0 1 1 1 1\n",
            " 1 0 0 0 0 0 1 0 1 0 0 0 0 0 1 0 0 0 0 1 1 1 0 0 1 0 1 0 0 0 0 0 0 0 0 0 0\n",
            " 0 0 0 0 0 0 0 0 0 0 0 0 0 0 0 0 0 0 0]\n",
            "El número de personas que usaran la tarjeta es de : 124\n",
            "El número total de datos es: 500\n",
            "El número de personas que no usaran la tarjeta es de: 376\n"
          ]
        }
      ]
    },
    {
      "cell_type": "markdown",
      "source": [
        "**Analisis de resultados**\n",
        "\n",
        "Con el modelo anteriormente planteado, podemos observar que este mismo presenta una buena clasificación para determinar si si una persona usará su tarjeta de crédito o no a la hora de ir de viaje, esto gracias a que el modelo cuenta con una exactitud de 89% del modelo en general, para la sensibilidad podemos determinar que el modelo alcanza un 73.2%, la cual permite categorizar correctamente aquellas personas que si usarán su tarjeta de crédito, y la especifidad alcanzó un 97.37% para clasificar correctamente a las personas que no usaran su tarjeta de crédito para pagar su viaje.\n",
        "\n",
        "Con los nodos puros, podemos encontrar 3 de estos los cuales son:\n",
        "\n",
        "  [1,0] (SI TravelSpend<=1188 AND FoodSpend>4972.55)\n",
        "\n",
        "  [0,47] (SI TravelSpend<=1188 AND FoodSpend>4990.73)\n",
        "\n",
        "  [108,0] (SI TravelSpend>1567.875 AND Income>59098)\n",
        "\n",
        "Para el caso de los nuevos clientes podemos ver que estos presentan las siguientes categorías\n",
        "\n",
        "**Primer cliente**: Para este, se presenta la siguiente regla: SI TravelSpend>1567.875 AND Income 59098, la cual nos deja con un nodo puro de [108,0] lo cual significa que este cliente tiene una posibilidad del 100% de usar su tarjeta de crédito para pagar su viaje.\n",
        "\n",
        "**Segundo Cliente**: Este presenta la siguiente regla: SI Income < 59098 AND FoodSpend > 2711.895 AND TravelSpend < 3008.25, esta persona tiene una posibilidad del 78.67% de usar su tarjeta de crédito para pagar su viaje"
      ],
      "metadata": {
        "id": "gPTxEbSJsywD"
      }
    }
  ]
}